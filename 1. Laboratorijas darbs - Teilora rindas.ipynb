{
 "cells": [
  {
   "cell_type": "markdown",
   "metadata": {},
   "source": [
    "# 1. Laboratorijas darba atskaite #\n",
    "## Teilora rindas ##\n",
    "\n",
    "Teilora rindu veidošana funkcijai cos(x^2)\n",
    "\n",
    "\n",
    "Funkcijas cos(x^2) aproksimācija ar summu no dotajiem materiāliem:\n",
    "(1.pielikums)"
   ]
  },
  {
   "cell_type": "code",
   "execution_count": 1,
   "metadata": {
    "scrolled": false
   },
   "outputs": [
    {
     "name": "stdout",
     "output_type": "stream",
     "text": [
      "          500\n",
      "         _____\n",
      "         \\            k     4*k\n",
      "          \\       (-1)  *  x\n",
      "cos(x*x) = >     _________________\n",
      "          /\n",
      "         /____       (2 * k)!\n",
      "         k=0\n"
     ]
    }
   ],
   "source": [
    "print(\"          500\")\n",
    "print(\"         _____\")\n",
    "print(\"         \\            k     4*k\")\n",
    "print(\"          \\       (-1)  *  x\")\n",
    "print(\"cos(x*x) = >     _________________\")\n",
    "print(\"          /\")\n",
    "print('         /____       (2 * k)!')\n",
    "print('         k=0')"
   ]
  },
  {
   "cell_type": "markdown",
   "metadata": {},
   "source": [
    "Lai iegūtu nepieciešamo summu, jāizveido rekurences reizinātājs, kas katru nākamo summas saskaitāmo pārveido tā, lai izmantots būtu iepriekšējā rezultāts + nākamais saskaitāmais un nebūtu jāveido garas rindas ar dažādiem saskaitītājiem. \n",
    "(2.pielikums)"
   ]
  },
  {
   "cell_type": "code",
   "execution_count": 2,
   "metadata": {},
   "outputs": [
    {
     "name": "stdout",
     "output_type": "stream",
     "text": [
      "                                    4\n",
      "                            (-1) * x\n",
      "rekurences reizinatajs: ______________________\n",
      "\n",
      "                         (2 * k) * (2 * k - 1)\n"
     ]
    }
   ],
   "source": [
    "print(\"                                    4\")\n",
    "print(\"                            (-1) * x\")\n",
    "print(\"rekurences reizinatajs: ______________________\")\n",
    "print(\"\")\n",
    "print(\"                         (2 * k) * (2 * k - 1)\")"
   ]
  },
  {
   "cell_type": "markdown",
   "metadata": {},
   "source": [
    "### 1. Pārbaudīsim cos(x^2) funkciju ar iebūvēto *math* sadaļas *cos* "
   ]
  },
  {
   "cell_type": "code",
   "execution_count": 1,
   "metadata": {},
   "outputs": [
    {
     "name": "stdout",
     "output_type": "stream",
     "text": [
      "Ievadiet argumentu x: 2.23\n",
      "cos(2.23*2.23) =   0.26\n"
     ]
    }
   ],
   "source": [
    "from math import cos\n",
    "x = float(input(\"Ievadiet argumentu x: \"))\n",
    "g = cos(x*x)\n",
    "print(\"cos(%.2f*%.2f) = %6.2f\"%(x,x,g))"
   ]
  },
  {
   "cell_type": "markdown",
   "metadata": {},
   "source": [
    "### 2. Savas funkcijas izveide"
   ]
  },
  {
   "cell_type": "markdown",
   "metadata": {},
   "source": [
    "Definēsim savu funkciju cos(x^2)"
   ]
  },
  {
   "cell_type": "code",
   "execution_count": 1,
   "metadata": {},
   "outputs": [],
   "source": [
    "def cos_arg_kvadrataa(x):\n",
    "# Mainīgo k iestatīsim kā sākuma koeficientu 0\n",
    "    k = 0\n",
    "# Ar cikla palīdzību iegūsim nepieciešamo rezultātu\n",
    "    while k < 501:\n",
    "# Pirmais koeficients ir svarīgs, lai iestatītu mainīgos\n",
    "# a - saskaitāmais\n",
    "# S - summa\n",
    "        if k == 0:\n",
    "            a = ((-1)**0*x**0)/(1)\n",
    "            S = a\n",
    "            print(\"a0 = %6.2f S0 = %6.2f\"%(a,S))\n",
    "# Lai cikls nebūtu bezgalīgs un summa veidotos no vairākiem saskaitāmajiem k pieskaita 1\n",
    "        k = k + 1\n",
    "# R - rekurences reizinātājs pēc 2.pielikuma parauga\n",
    "        R = ((-1)**1*x**4)/((2*k)*(2*k-1))\n",
    "# Lai iegūtu nākamo saskaitāmo Teilora rindā, iepriekšējo saskaitāmo reizina ar rekurences reizinātāju R\n",
    "        a = a * R\n",
    "# To pieskaita summai\n",
    "        S = S + a\n",
    "# Ja nepieciešams, lai redzētu vai iegūts precīzs rezultāts, pārbauda pēdējos koeficientus\n",
    "        if k == 499:\n",
    "            print(\"a%d = %6.2f S%d = %6.2f\"%(k,a,k,S))\n",
    "        if k == 500:\n",
    "            print(\"a%d = %6.2f S%d = %6.2f\"%(k,a,k,S))\n",
    "# Nepieciešamo rezultātu iegūst ar *return* (ja rezultāts jāizmanto, piemēram, grafikiem, tad lieto tikai\n",
    "# return S\n",
    "    return \"cos(x^2) caur summu: %6.2f\"%(S)"
   ]
  },
  {
   "cell_type": "markdown",
   "metadata": {},
   "source": [
    "Tagad var ievadīt nepieciešamo argumentu un salīdzināt rezultātu ar iebūvēto *cos*"
   ]
  },
  {
   "cell_type": "code",
   "execution_count": 2,
   "metadata": {},
   "outputs": [
    {
     "name": "stdout",
     "output_type": "stream",
     "text": [
      "Ievadiet argumentu x: 2.23\n",
      "a0 =   1.00 S0 =   1.00\n",
      "a499 =  -0.00 S499 =   0.26\n",
      "a500 =   0.00 S500 =   0.26\n",
      "cos(x^2) caur summu:   0.26\n"
     ]
    }
   ],
   "source": [
    "x = float(input(\"Ievadiet argumentu x: \"))\n",
    "y = cos_arg_kvadrataa(x)\n",
    "print(y)"
   ]
  },
  {
   "cell_type": "markdown",
   "metadata": {},
   "source": [
    "Kā redzams, rezultāti sakrīt, kas nozīmē, ka definētā funkcija ir līdzvērtīga iebūvētajai *cos*.\n"
   ]
  },
  {
   "cell_type": "markdown",
   "metadata": {},
   "source": [
    "Saite uz python kodu repozitārijā\n",
    "https://github.com/kreilisk24/RTR105/blob/master/cos(x^2).py"
   ]
  }
 ],
 "metadata": {
  "kernelspec": {
   "display_name": "Python 3",
   "language": "python",
   "name": "python3"
  },
  "language_info": {
   "codemirror_mode": {
    "name": "ipython",
    "version": 3
   },
   "file_extension": ".py",
   "mimetype": "text/x-python",
   "name": "python",
   "nbconvert_exporter": "python",
   "pygments_lexer": "ipython3",
   "version": "3.6.7"
  }
 },
 "nbformat": 4,
 "nbformat_minor": 2
}
